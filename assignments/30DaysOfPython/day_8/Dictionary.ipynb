{
 "cells": [
  {
   "cell_type": "markdown",
   "metadata": {},
   "source": [
    "# 1. Create an empty dictionary called dog"
   ]
  },
  {
   "cell_type": "code",
   "execution_count": 24,
   "metadata": {},
   "outputs": [],
   "source": [
    "dog = {}"
   ]
  },
  {
   "cell_type": "markdown",
   "metadata": {},
   "source": [
    "# 2. Add name, color, breed, legs, age to the dog dictionary"
   ]
  },
  {
   "cell_type": "code",
   "execution_count": 25,
   "metadata": {},
   "outputs": [],
   "source": [
    "dog = {\n",
    "    'name': 'Lucky',\n",
    "    'color':'white',\n",
    "    'breed':'Dutch',\n",
    "    'legs':4,\n",
    "    'age':3\n",
    "}"
   ]
  },
  {
   "cell_type": "markdown",
   "metadata": {},
   "source": [
    "# 3. Create a student dictionary and add first_name, last_name, gender, age, marital status, skills, country, city and address as keys for the dictionary"
   ]
  },
  {
   "cell_type": "code",
   "execution_count": 26,
   "metadata": {},
   "outputs": [],
   "source": [
    "student = {\n",
    "    'first_name' : 'Suraj',\n",
    "    'last_name' : 'Adam',\n",
    "    'gender' : 'Male',\n",
    "    'age' : 24,\n",
    "    'marital_status' : 'Single',\n",
    "    'skills' : ['SQL', 'Python', 'Java', 'HTML'],\n",
    "    'country' : 'Nigeria',\n",
    "    'city' : 'Kaduna',\n",
    "    'address' : {'Town' : 'Giwa',\n",
    "                 'Street' : 'Kakangi Street'}\n",
    "}"
   ]
  },
  {
   "cell_type": "markdown",
   "metadata": {},
   "source": [
    "4. Get the length of the student dictionary"
   ]
  },
  {
   "cell_type": "code",
   "execution_count": 27,
   "metadata": {},
   "outputs": [
    {
     "name": "stdout",
     "output_type": "stream",
     "text": [
      "9\n"
     ]
    }
   ],
   "source": [
    "print(len(student))"
   ]
  },
  {
   "cell_type": "markdown",
   "metadata": {},
   "source": [
    "5. Get the value of skills and check the data type, it should be a list"
   ]
  },
  {
   "cell_type": "code",
   "execution_count": 28,
   "metadata": {},
   "outputs": [
    {
     "name": "stdout",
     "output_type": "stream",
     "text": [
      "['SQL', 'Python', 'Java', 'HTML']\n",
      "<class 'list'>\n"
     ]
    }
   ],
   "source": [
    "print(student['skills'])\n",
    "print(type(student['skills']))"
   ]
  },
  {
   "cell_type": "markdown",
   "metadata": {},
   "source": [
    "6. Modify the skills values by adding one or two skills"
   ]
  },
  {
   "cell_type": "code",
   "execution_count": 29,
   "metadata": {},
   "outputs": [],
   "source": [
    "student['skills'].append(['ML'])\n",
    "student['skills'].append(['Ruby'])"
   ]
  },
  {
   "cell_type": "markdown",
   "metadata": {},
   "source": [
    "7. Get the dictionary keys as a list"
   ]
  },
  {
   "cell_type": "code",
   "execution_count": 30,
   "metadata": {},
   "outputs": [
    {
     "name": "stdout",
     "output_type": "stream",
     "text": [
      "dict_keys(['first_name', 'last_name', 'gender', 'age', 'marital_status', 'skills', 'country', 'city', 'address'])\n"
     ]
    }
   ],
   "source": [
    "print(student.keys())"
   ]
  },
  {
   "cell_type": "markdown",
   "metadata": {},
   "source": [
    "8. Get the dictionary values as a list"
   ]
  },
  {
   "cell_type": "code",
   "execution_count": 31,
   "metadata": {},
   "outputs": [
    {
     "name": "stdout",
     "output_type": "stream",
     "text": [
      "dict_values(['Suraj', 'Adam', 'Male', 24, 'Single', ['SQL', 'Python', 'Java', 'HTML', ['ML'], ['Ruby']], 'Nigeria', 'Kaduna', {'Town': 'Giwa', 'Street': 'Kakangi Street'}])\n"
     ]
    }
   ],
   "source": [
    "print(student.values())"
   ]
  },
  {
   "cell_type": "markdown",
   "metadata": {},
   "source": [
    "9. Change the dictionary to a list of tuples using items() method"
   ]
  },
  {
   "cell_type": "code",
   "execution_count": 32,
   "metadata": {},
   "outputs": [
    {
     "name": "stdout",
     "output_type": "stream",
     "text": [
      "dict_items([('first_name', 'Suraj'), ('last_name', 'Adam'), ('gender', 'Male'), ('age', 24), ('marital_status', 'Single'), ('skills', ['SQL', 'Python', 'Java', 'HTML', ['ML'], ['Ruby']]), ('country', 'Nigeria'), ('city', 'Kaduna'), ('address', {'Town': 'Giwa', 'Street': 'Kakangi Street'})])\n"
     ]
    }
   ],
   "source": [
    "student = student.items()\n",
    "print(student)"
   ]
  },
  {
   "cell_type": "markdown",
   "metadata": {},
   "source": [
    "10. Delete one of the items in the dictionary"
   ]
  },
  {
   "cell_type": "code",
   "execution_count": 33,
   "metadata": {},
   "outputs": [
    {
     "ename": "TypeError",
     "evalue": "'dict_items' object does not support item deletion",
     "output_type": "error",
     "traceback": [
      "\u001b[1;31m---------------------------------------------------------------------------\u001b[0m",
      "\u001b[1;31mTypeError\u001b[0m                                 Traceback (most recent call last)",
      "Cell \u001b[1;32mIn[33], line 1\u001b[0m\n\u001b[1;32m----> 1\u001b[0m \u001b[38;5;28;01mdel\u001b[39;00m student[\u001b[38;5;124m'\u001b[39m\u001b[38;5;124mfirst_name\u001b[39m\u001b[38;5;124m'\u001b[39m]\n",
      "\u001b[1;31mTypeError\u001b[0m: 'dict_items' object does not support item deletion"
     ]
    }
   ],
   "source": [
    "del student['first_name']"
   ]
  },
  {
   "cell_type": "markdown",
   "metadata": {},
   "source": [
    "11. Delete one of the dictionariesa"
   ]
  },
  {
   "cell_type": "code",
   "execution_count": null,
   "metadata": {},
   "outputs": [],
   "source": [
    "del student['address']"
   ]
  },
  {
   "cell_type": "code",
   "execution_count": null,
   "metadata": {},
   "outputs": [
    {
     "name": "stdout",
     "output_type": "stream",
     "text": [
      "{'last_name': 'Adam', 'gender': 'Male', 'age': 24, 'marital_status': 'Single', 'skills': ['SQL', 'Python', 'Java', 'HTML', ['ML'], ['Ruby']], 'country': 'Nigeria', 'city': 'Kaduna'}\n"
     ]
    }
   ],
   "source": [
    "print(student)"
   ]
  }
 ],
 "metadata": {
  "kernelspec": {
   "display_name": "datascience",
   "language": "python",
   "name": "python3"
  },
  "language_info": {
   "codemirror_mode": {
    "name": "ipython",
    "version": 3
   },
   "file_extension": ".py",
   "mimetype": "text/x-python",
   "name": "python",
   "nbconvert_exporter": "python",
   "pygments_lexer": "ipython3",
   "version": "3.9.18"
  }
 },
 "nbformat": 4,
 "nbformat_minor": 2
}
